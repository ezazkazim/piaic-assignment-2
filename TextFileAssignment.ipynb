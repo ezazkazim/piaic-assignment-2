{
 "cells": [
  {
   "cell_type": "code",
   "execution_count": 73,
   "metadata": {},
   "outputs": [
    {
     "name": "stdout",
     "output_type": "stream",
     "text": [
      "Enter file name: text.txt\n",
      "Number of words : 41\n",
      "Number of lines : 10\n",
      "Number of characters : 157\n",
      "Number of spaces : 31\n",
      "Number of tabs : 1\n",
      "Number of paragraph : 2\n"
     ]
    }
   ],
   "source": [
    "import os\n",
    "\n",
    "fname = input(\"Enter file name: \")\n",
    "\n",
    "if os.path.isfile(fname) is True:\n",
    "    infile = open(fname, 'r')\n",
    "    infile = infile.read()\n",
    "\n",
    "    Total_chracters = len(infile)\n",
    "    words = len(infile.split())\n",
    "    lines = infile.count('\\n') +1\n",
    "    spaces = len(infile.split(\" \")) -1\n",
    "    tabs = len(infile.split('\\t\\t')) \n",
    "    characters = Total_chracters - spaces - tabs\n",
    "    paragraph = infile.count('\\n\\t') +1\n",
    "    #paragraph = infile.count('\\n   ') +1 #if want to apply greater then 2 spaces rule for paragraph\n",
    "    \n",
    "    #print(\"Number of total chracters :\",Total_chracters)\n",
    "    print(\"Number of words :\",words)\n",
    "    print(\"Number of lines :\",lines)\n",
    "    print(\"Number of characters :\",characters)\n",
    "    print(\"Number of spaces :\",spaces)\n",
    "    print(\"Number of tabs :\",tabs)\n",
    "    print(\"Number of paragraph :\",paragraph)\n",
    "else :\n",
    "    print(fname, \"Not exists\")\n"
   ]
  }
 ],
 "metadata": {
  "kernelspec": {
   "display_name": "Python 3",
   "language": "python",
   "name": "python3"
  },
  "language_info": {
   "codemirror_mode": {
    "name": "ipython",
    "version": 3
   },
   "file_extension": ".py",
   "mimetype": "text/x-python",
   "name": "python",
   "nbconvert_exporter": "python",
   "pygments_lexer": "ipython3",
   "version": "3.7.3"
  }
 },
 "nbformat": 4,
 "nbformat_minor": 2
}
