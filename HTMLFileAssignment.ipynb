{
 "cells": [
  {
   "cell_type": "code",
   "execution_count": 23,
   "metadata": {},
   "outputs": [
    {
     "name": "stdout",
     "output_type": "stream",
     "text": [
      "Enter file name: example_html_file.html\n",
      "Dictionary of Tags name and count of tags : {'html': 1, 'head': 1, 'title': 1, 'style': 1, 'body': 1, 'h1': 1, 'p': 3, 'a': 1}\n"
     ]
    }
   ],
   "source": [
    "from bs4 import BeautifulSoup\n",
    "import os\n",
    "\n",
    "fname = input(\"Enter file name: \") #\"example_html_file.html\"\n",
    "\n",
    "dicTags ={}\n",
    "\n",
    "if os.path.isfile(fname) is True:\n",
    "    infile = open(fname, 'r')\n",
    "    data = infile.read()\n",
    "    soup = BeautifulSoup(data)\n",
    "    for tag in soup.find_all():\n",
    "        if tag.name not in dicTags:\n",
    "            dicTags[tag.name] = 1\n",
    "        else:\n",
    "            dicTags[tag.name]  +=1\n",
    "        #print(tag.name)\n",
    "print(\"Dictionary of Tags name and count of tags :\",dicTags)"
   ]
  }
 ],
 "metadata": {
  "kernelspec": {
   "display_name": "Python 3",
   "language": "python",
   "name": "python3"
  },
  "language_info": {
   "codemirror_mode": {
    "name": "ipython",
    "version": 3
   },
   "file_extension": ".py",
   "mimetype": "text/x-python",
   "name": "python",
   "nbconvert_exporter": "python",
   "pygments_lexer": "ipython3",
   "version": "3.7.3"
  }
 },
 "nbformat": 4,
 "nbformat_minor": 2
}
